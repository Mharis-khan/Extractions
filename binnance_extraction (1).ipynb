{
  "nbformat": 4,
  "nbformat_minor": 0,
  "metadata": {
    "colab": {
      "provenance": []
    },
    "kernelspec": {
      "name": "python3",
      "display_name": "Python 3"
    },
    "language_info": {
      "name": "python"
    }
  },
  "cells": [
    {
      "cell_type": "code",
      "execution_count": null,
      "metadata": {
        "colab": {
          "base_uri": "https://localhost:8080/"
        },
        "id": "v60WXMfzl031",
        "outputId": "9863fd6c-1963-41cb-93f4-14e74e14a456"
      },
      "outputs": [
        {
          "output_type": "stream",
          "name": "stdout",
          "text": [
            "Collecting python-binance\n",
            "  Downloading python_binance-1.0.27-py2.py3-none-any.whl.metadata (13 kB)\n",
            "Requirement already satisfied: requests in /usr/local/lib/python3.11/dist-packages (from python-binance) (2.32.3)\n",
            "Requirement already satisfied: six in /usr/local/lib/python3.11/dist-packages (from python-binance) (1.17.0)\n",
            "Collecting dateparser (from python-binance)\n",
            "  Downloading dateparser-1.2.1-py3-none-any.whl.metadata (29 kB)\n",
            "Requirement already satisfied: aiohttp in /usr/local/lib/python3.11/dist-packages (from python-binance) (3.11.12)\n",
            "Requirement already satisfied: websockets in /usr/local/lib/python3.11/dist-packages (from python-binance) (14.2)\n",
            "Collecting pycryptodome (from python-binance)\n",
            "  Downloading pycryptodome-3.21.0-cp36-abi3-manylinux_2_17_x86_64.manylinux2014_x86_64.whl.metadata (3.4 kB)\n",
            "Requirement already satisfied: aiohappyeyeballs>=2.3.0 in /usr/local/lib/python3.11/dist-packages (from aiohttp->python-binance) (2.4.6)\n",
            "Requirement already satisfied: aiosignal>=1.1.2 in /usr/local/lib/python3.11/dist-packages (from aiohttp->python-binance) (1.3.2)\n",
            "Requirement already satisfied: attrs>=17.3.0 in /usr/local/lib/python3.11/dist-packages (from aiohttp->python-binance) (25.1.0)\n",
            "Requirement already satisfied: frozenlist>=1.1.1 in /usr/local/lib/python3.11/dist-packages (from aiohttp->python-binance) (1.5.0)\n",
            "Requirement already satisfied: multidict<7.0,>=4.5 in /usr/local/lib/python3.11/dist-packages (from aiohttp->python-binance) (6.1.0)\n",
            "Requirement already satisfied: propcache>=0.2.0 in /usr/local/lib/python3.11/dist-packages (from aiohttp->python-binance) (0.2.1)\n",
            "Requirement already satisfied: yarl<2.0,>=1.17.0 in /usr/local/lib/python3.11/dist-packages (from aiohttp->python-binance) (1.18.3)\n",
            "Requirement already satisfied: python-dateutil>=2.7.0 in /usr/local/lib/python3.11/dist-packages (from dateparser->python-binance) (2.8.2)\n",
            "Requirement already satisfied: pytz>=2024.2 in /usr/local/lib/python3.11/dist-packages (from dateparser->python-binance) (2025.1)\n",
            "Requirement already satisfied: regex!=2019.02.19,!=2021.8.27,>=2015.06.24 in /usr/local/lib/python3.11/dist-packages (from dateparser->python-binance) (2024.11.6)\n",
            "Requirement already satisfied: tzlocal>=0.2 in /usr/local/lib/python3.11/dist-packages (from dateparser->python-binance) (5.3)\n",
            "Requirement already satisfied: charset-normalizer<4,>=2 in /usr/local/lib/python3.11/dist-packages (from requests->python-binance) (3.4.1)\n",
            "Requirement already satisfied: idna<4,>=2.5 in /usr/local/lib/python3.11/dist-packages (from requests->python-binance) (3.10)\n",
            "Requirement already satisfied: urllib3<3,>=1.21.1 in /usr/local/lib/python3.11/dist-packages (from requests->python-binance) (2.3.0)\n",
            "Requirement already satisfied: certifi>=2017.4.17 in /usr/local/lib/python3.11/dist-packages (from requests->python-binance) (2025.1.31)\n",
            "Downloading python_binance-1.0.27-py2.py3-none-any.whl (113 kB)\n",
            "\u001b[2K   \u001b[90m━━━━━━━━━━━━━━━━━━━━━━━━━━━━━━━━━━━━━━━━\u001b[0m \u001b[32m113.7/113.7 kB\u001b[0m \u001b[31m3.3 MB/s\u001b[0m eta \u001b[36m0:00:00\u001b[0m\n",
            "\u001b[?25hDownloading dateparser-1.2.1-py3-none-any.whl (295 kB)\n",
            "\u001b[2K   \u001b[90m━━━━━━━━━━━━━━━━━━━━━━━━━━━━━━━━━━━━━━━━\u001b[0m \u001b[32m295.7/295.7 kB\u001b[0m \u001b[31m16.4 MB/s\u001b[0m eta \u001b[36m0:00:00\u001b[0m\n",
            "\u001b[?25hDownloading pycryptodome-3.21.0-cp36-abi3-manylinux_2_17_x86_64.manylinux2014_x86_64.whl (2.3 MB)\n",
            "\u001b[2K   \u001b[90m━━━━━━━━━━━━━━━━━━━━━━━━━━━━━━━━━━━━━━━━\u001b[0m \u001b[32m2.3/2.3 MB\u001b[0m \u001b[31m20.6 MB/s\u001b[0m eta \u001b[36m0:00:00\u001b[0m\n",
            "\u001b[?25hInstalling collected packages: pycryptodome, dateparser, python-binance\n",
            "Successfully installed dateparser-1.2.1 pycryptodome-3.21.0 python-binance-1.0.27\n"
          ]
        }
      ],
      "source": [
        "!pip install python-binance\n",
        "\n"
      ]
    },
    {
      "cell_type": "code",
      "source": [
        "#import os\n",
        "#os._exit(0)"
      ],
      "metadata": {
        "id": "34qtPiL6oFQ1"
      },
      "execution_count": null,
      "outputs": []
    },
    {
      "cell_type": "code",
      "source": [
        "import pandas as pd\n",
        "import asyncio\n",
        "from binance import AsyncClient\n",
        "import nest_asyncio\n",
        "from datetime import datetime\n",
        "\n",
        "#  nested event loop\n",
        "nest_asyncio.apply()\n",
        "\n",
        "async def fetch_historical_data_for_meme_coins(coins):\n",
        "    API_KEY = \"########\"\n",
        "    API_SECRET = \"########\"\n",
        "\n",
        "    client = await AsyncClient.create(API_KEY, API_SECRET, testnet=True)\n",
        "\n",
        "    #  start and end time\n",
        "    start_time = datetime(datetime.now().year, 1, 17)  #\n",
        "    end_time = datetime.utcnow()\n",
        "\n",
        "    data_dict = {}\n",
        "\n",
        "    for symbol in coins:\n",
        "        try:\n",
        "            current_start_time = int(start_time.timestamp() * 1000)\n",
        "            end_time_ms = int(end_time.timestamp() * 1000)\n",
        "            all_klines = []\n",
        "\n",
        "            while current_start_time < end_time_ms:\n",
        "                # Fetch data with pagination, up to 1000 records per request\n",
        "                klines = await client.get_historical_klines(\n",
        "                    symbol, \"1h\", current_start_time, end_time_ms, limit=1000\n",
        "                )\n",
        "\n",
        "                if not klines:\n",
        "                    break\n",
        "\n",
        "                all_klines.extend(klines)\n",
        "\n",
        "                # Update start time to avoid duplicate data\n",
        "                current_start_time = int(klines[-1][0]) + 1\n",
        "\n",
        "            if all_klines:\n",
        "\n",
        "                df = pd.DataFrame(all_klines, columns=[\n",
        "                    \"Open Time\", \"Open\", \"High\", \"Low\", \"Close\", \"Volume\",\n",
        "                    \"Close Time\", \"Quote Asset Volume\", \"Number of Trades\",\n",
        "                    \"Taker Buy Base Asset Volume\", \"Taker Buy Quote Asset Volume\", \"Ignore\"\n",
        "                ])\n",
        "\n",
        "                # Convert timestamps to datetime\n",
        "                df[\"Open Time\"] = pd.to_datetime(df[\"Open Time\"], unit='ms')\n",
        "                df[\"Close Time\"] = pd.to_datetime(df[\"Close Time\"], unit='ms')\n",
        "\n",
        "                df = df[df[\"Open Time\"] >= start_time]\n",
        "\n",
        "                data_dict[symbol] = df\n",
        "            else:\n",
        "                print(f\"No data available for {symbol} from the requested start date.\")\n",
        "\n",
        "        except Exception as e:\n",
        "            print(f\"Error fetching data for {symbol}: {e}\")\n",
        "\n",
        "    # Save the data to Excel\n",
        "    file_name = \"binance_trumpusdt_data.xlsx\"\n",
        "    with pd.ExcelWriter(file_name) as writer:\n",
        "        for coin, df in data_dict.items():\n",
        "            df.to_excel(writer, sheet_name=coin, index=False)\n",
        "\n",
        "    await client.close_connection()\n",
        "    print(f\"Data saved to {file_name}\")\n",
        "\n",
        "\n",
        "meme_coins = [\"TRUMPUSDT\"]\n",
        "\n",
        "# Run the function\n",
        "loop = asyncio.get_event_loop()\n",
        "loop.run_until_complete(fetch_historical_data_for_meme_coins(meme_coins))\n"
      ],
      "metadata": {
        "colab": {
          "base_uri": "https://localhost:8080/"
        },
        "id": "27yCnzXTnrDW",
        "outputId": "7707c434-5d6e-4e29-bb15-4959196f0707"
      },
      "execution_count": null,
      "outputs": [
        {
          "output_type": "stream",
          "name": "stdout",
          "text": [
            "Data saved to binance_trumpusdt_data.xlsx\n"
          ]
        }
      ]
    },
    {
      "cell_type": "code",
      "source": [
        "from google.colab import files\n",
        "files.download(\"binance_trumpusdt_data.xlsx\")\n"
      ],
      "metadata": {
        "colab": {
          "base_uri": "https://localhost:8080/",
          "height": 17
        },
        "id": "Ex_cozr9pnGE",
        "outputId": "6a064828-33ca-4dcc-f928-b7eb8adf5e03"
      },
      "execution_count": null,
      "outputs": [
        {
          "output_type": "display_data",
          "data": {
            "text/plain": [
              "<IPython.core.display.Javascript object>"
            ],
            "application/javascript": [
              "\n",
              "    async function download(id, filename, size) {\n",
              "      if (!google.colab.kernel.accessAllowed) {\n",
              "        return;\n",
              "      }\n",
              "      const div = document.createElement('div');\n",
              "      const label = document.createElement('label');\n",
              "      label.textContent = `Downloading \"${filename}\": `;\n",
              "      div.appendChild(label);\n",
              "      const progress = document.createElement('progress');\n",
              "      progress.max = size;\n",
              "      div.appendChild(progress);\n",
              "      document.body.appendChild(div);\n",
              "\n",
              "      const buffers = [];\n",
              "      let downloaded = 0;\n",
              "\n",
              "      const channel = await google.colab.kernel.comms.open(id);\n",
              "      // Send a message to notify the kernel that we're ready.\n",
              "      channel.send({})\n",
              "\n",
              "      for await (const message of channel.messages) {\n",
              "        // Send a message to notify the kernel that we're ready.\n",
              "        channel.send({})\n",
              "        if (message.buffers) {\n",
              "          for (const buffer of message.buffers) {\n",
              "            buffers.push(buffer);\n",
              "            downloaded += buffer.byteLength;\n",
              "            progress.value = downloaded;\n",
              "          }\n",
              "        }\n",
              "      }\n",
              "      const blob = new Blob(buffers, {type: 'application/binary'});\n",
              "      const a = document.createElement('a');\n",
              "      a.href = window.URL.createObjectURL(blob);\n",
              "      a.download = filename;\n",
              "      div.appendChild(a);\n",
              "      a.click();\n",
              "      div.remove();\n",
              "    }\n",
              "  "
            ]
          },
          "metadata": {}
        },
        {
          "output_type": "display_data",
          "data": {
            "text/plain": [
              "<IPython.core.display.Javascript object>"
            ],
            "application/javascript": [
              "download(\"download_2a8880bd-c6ea-4d53-a29c-1064c58cf719\", \"binance_trumpusdt_data.xlsx\", 33907)"
            ]
          },
          "metadata": {}
        }
      ]
    },
    {
      "cell_type": "code",
      "source": [
        "import requests\n",
        "import pandas as pd\n",
        "from datetime import datetime\n",
        "\n",
        "def fetch_historical_data_kraken(symbol, start_date):\n",
        "    # Kraken API endpoint\n",
        "    url = \"https://api.kraken.com/0/public/OHLC\"\n",
        "\n",
        "    # Convert start date to UNIX timestamp\n",
        "    start_timestamp = int(datetime.strptime(start_date, \"%Y-%m-%d %H:%M:%S\").timestamp())\n",
        "\n",
        "    params = {\n",
        "        \"pair\": symbol,\n",
        "        \"interval\": 60,  # 1-hour interval\n",
        "        \"since\": start_timestamp\n",
        "    }\n",
        "\n",
        "    # Send GET request to Kraken API\n",
        "    response = requests.get(url, params=params)\n",
        "\n",
        "    if response.status_code == 200:\n",
        "        data = response.json()\n",
        "\n",
        "        if \"result\" not in data or symbol not in data[\"result\"]:\n",
        "            print(f\"No data available for {symbol}\")\n",
        "            return None\n",
        "\n",
        "        ohlc_data = data[\"result\"][symbol]\n",
        "\n",
        "        # DataFrame with correct column names\n",
        "        df = pd.DataFrame(ohlc_data, columns=[\n",
        "            \"Time\", \"Open\", \"High\", \"Low\", \"Close\", \"Volume\", \"VWAP\", \"Trades\"\n",
        "        ])\n",
        "\n",
        "        df[\"Time\"] = pd.to_datetime(df[\"Time\"], unit=\"s\")\n",
        "\n",
        "        # Filter data to\n",
        "        df = df[df[\"Time\"] >= datetime(2025, 1, 18)]\n",
        "\n",
        "        # additional calculated columns\n",
        "        df[\"Price Change\"] = df[\"Close\"].astype(float) - df[\"Open\"].astype(float)\n",
        "        df[\"Price Change %\"] = (df[\"Price Change\"] / df[\"Open\"].astype(float)) * 100\n",
        "        df[\"High-Low Spread\"] = df[\"High\"].astype(float) - df[\"Low\"].astype(float)\n",
        "        df[\"Cumulative Volume\"] = df[\"Volume\"].astype(float).cumsum()\n",
        "\n",
        "        # Add SMA for the last 3 hours\n",
        "        df[\"SMA_3\"] = df[\"Close\"].astype(float).rolling(window=3).mean()\n",
        "\n",
        "        # Save to Excel file\n",
        "        file_name = f\"kraken_{symbol}_1h_data.xlsx\"\n",
        "        df.to_excel(file_name, index=False)\n",
        "        print(f\"Data saved to {file_name}\")\n",
        "    else:\n",
        "        print(f\"Failed to fetch data from Kraken. Status code: {response.status_code}\")\n",
        "\n",
        "# Fetch historical data for TRUMPUSDT starting from January 18, 2025\n",
        "fetch_historical_data_kraken(\"TRUMPUSDT\", \"2025-01-18 00:00:00\")\n"
      ],
      "metadata": {
        "colab": {
          "base_uri": "https://localhost:8080/"
        },
        "id": "eCXhWJ3aGDtM",
        "outputId": "290d6d14-7e0b-4c9b-97ed-81e8af0c6a5e"
      },
      "execution_count": null,
      "outputs": [
        {
          "output_type": "stream",
          "name": "stdout",
          "text": [
            "Data saved to kraken_TRUMPUSDT_1h_data.xlsx\n"
          ]
        }
      ]
    },
    {
      "cell_type": "code",
      "source": [
        "from google.colab import files\n",
        "files.download(\"kraken_TRUMPUSDT_1h_data.xlsx\")"
      ],
      "metadata": {
        "colab": {
          "base_uri": "https://localhost:8080/",
          "height": 17
        },
        "id": "7DMrf50-F623",
        "outputId": "a3a800a0-a12e-4c12-8626-5f78dc0661a0"
      },
      "execution_count": null,
      "outputs": [
        {
          "output_type": "display_data",
          "data": {
            "text/plain": [
              "<IPython.core.display.Javascript object>"
            ],
            "application/javascript": [
              "\n",
              "    async function download(id, filename, size) {\n",
              "      if (!google.colab.kernel.accessAllowed) {\n",
              "        return;\n",
              "      }\n",
              "      const div = document.createElement('div');\n",
              "      const label = document.createElement('label');\n",
              "      label.textContent = `Downloading \"${filename}\": `;\n",
              "      div.appendChild(label);\n",
              "      const progress = document.createElement('progress');\n",
              "      progress.max = size;\n",
              "      div.appendChild(progress);\n",
              "      document.body.appendChild(div);\n",
              "\n",
              "      const buffers = [];\n",
              "      let downloaded = 0;\n",
              "\n",
              "      const channel = await google.colab.kernel.comms.open(id);\n",
              "      // Send a message to notify the kernel that we're ready.\n",
              "      channel.send({})\n",
              "\n",
              "      for await (const message of channel.messages) {\n",
              "        // Send a message to notify the kernel that we're ready.\n",
              "        channel.send({})\n",
              "        if (message.buffers) {\n",
              "          for (const buffer of message.buffers) {\n",
              "            buffers.push(buffer);\n",
              "            downloaded += buffer.byteLength;\n",
              "            progress.value = downloaded;\n",
              "          }\n",
              "        }\n",
              "      }\n",
              "      const blob = new Blob(buffers, {type: 'application/binary'});\n",
              "      const a = document.createElement('a');\n",
              "      a.href = window.URL.createObjectURL(blob);\n",
              "      a.download = filename;\n",
              "      div.appendChild(a);\n",
              "      a.click();\n",
              "      div.remove();\n",
              "    }\n",
              "  "
            ]
          },
          "metadata": {}
        },
        {
          "output_type": "display_data",
          "data": {
            "text/plain": [
              "<IPython.core.display.Javascript object>"
            ],
            "application/javascript": [
              "download(\"download_88348398-2e9c-4994-a2ea-e9ba80e56c15\", \"kraken_TRUMPUSDT_1h_data.xlsx\", 76535)"
            ]
          },
          "metadata": {}
        }
      ]
    },
    {
      "cell_type": "code",
      "source": [
        "\n",
        "\n"
      ],
      "metadata": {
        "colab": {
          "base_uri": "https://localhost:8080/",
          "height": 17
        },
        "id": "8WeqDLX9GE5C",
        "outputId": "f267fad1-0132-4295-ed93-b464055e44b1"
      },
      "execution_count": null,
      "outputs": [
        {
          "output_type": "display_data",
          "data": {
            "text/plain": [
              "<IPython.core.display.Javascript object>"
            ],
            "application/javascript": [
              "\n",
              "    async function download(id, filename, size) {\n",
              "      if (!google.colab.kernel.accessAllowed) {\n",
              "        return;\n",
              "      }\n",
              "      const div = document.createElement('div');\n",
              "      const label = document.createElement('label');\n",
              "      label.textContent = `Downloading \"${filename}\": `;\n",
              "      div.appendChild(label);\n",
              "      const progress = document.createElement('progress');\n",
              "      progress.max = size;\n",
              "      div.appendChild(progress);\n",
              "      document.body.appendChild(div);\n",
              "\n",
              "      const buffers = [];\n",
              "      let downloaded = 0;\n",
              "\n",
              "      const channel = await google.colab.kernel.comms.open(id);\n",
              "      // Send a message to notify the kernel that we're ready.\n",
              "      channel.send({})\n",
              "\n",
              "      for await (const message of channel.messages) {\n",
              "        // Send a message to notify the kernel that we're ready.\n",
              "        channel.send({})\n",
              "        if (message.buffers) {\n",
              "          for (const buffer of message.buffers) {\n",
              "            buffers.push(buffer);\n",
              "            downloaded += buffer.byteLength;\n",
              "            progress.value = downloaded;\n",
              "          }\n",
              "        }\n",
              "      }\n",
              "      const blob = new Blob(buffers, {type: 'application/binary'});\n",
              "      const a = document.createElement('a');\n",
              "      a.href = window.URL.createObjectURL(blob);\n",
              "      a.download = filename;\n",
              "      div.appendChild(a);\n",
              "      a.click();\n",
              "      div.remove();\n",
              "    }\n",
              "  "
            ]
          },
          "metadata": {}
        },
        {
          "output_type": "display_data",
          "data": {
            "text/plain": [
              "<IPython.core.display.Javascript object>"
            ],
            "application/javascript": [
              "download(\"download_cd716f4c-8c5f-4d55-a003-d5fa1cdaea54\", \"binance_meme_coins_data.xlsx\", 53618)"
            ]
          },
          "metadata": {}
        }
      ]
    },
    {
      "cell_type": "code",
      "source": [],
      "metadata": {
        "colab": {
          "base_uri": "https://localhost:8080/"
        },
        "id": "-SUKYihhDm1e",
        "outputId": "5469eca9-a986-4d1f-9acb-01fe011e8e4e"
      },
      "execution_count": null,
      "outputs": [
        {
          "output_type": "stream",
          "name": "stdout",
          "text": [
            "Data saved to kraken_TRUMPUSDT_4h_data.xlsx\n"
          ]
        }
      ]
    }
  ]
}